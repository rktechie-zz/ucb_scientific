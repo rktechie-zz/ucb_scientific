{
 "cells": [
  {
   "cell_type": "code",
   "execution_count": 1,
   "metadata": {
    "collapsed": true
   },
   "outputs": [],
   "source": [
    "#Name: Rishabh Kedia"
   ]
  },
  {
   "cell_type": "code",
   "execution_count": 89,
   "metadata": {
    "collapsed": true
   },
   "outputs": [],
   "source": [
    "import numpy as np"
   ]
  },
  {
   "cell_type": "code",
   "execution_count": 104,
   "metadata": {},
   "outputs": [
    {
     "name": "stdout",
     "output_type": "stream",
     "text": [
      "A: [[ 0.1989134   0.26943841  0.45409686  0.8931826   0.41490198]\n",
      " [ 0.1561664   0.09971606  0.05990208  0.57347287  0.35389622]\n",
      " [ 0.63310774  0.74166118  0.26535256  0.54182125  0.52325784]]\n"
     ]
    }
   ],
   "source": [
    "#Create matrix A with size (3,5) containing random numbers\n",
    "a = np.random.random(15).reshape(3,5)\n",
    "print('A: %s' %a)"
   ]
  },
  {
   "cell_type": "code",
   "execution_count": 105,
   "metadata": {},
   "outputs": [
    {
     "name": "stdout",
     "output_type": "stream",
     "text": [
      "A size: 15\n",
      "A length: 5\n"
     ]
    }
   ],
   "source": [
    "#Find the size and length of matrix A\n",
    "print('A size: %s' %a.size)\n",
    "print('A length: %s' %a[0].size)"
   ]
  },
  {
   "cell_type": "code",
   "execution_count": 106,
   "metadata": {},
   "outputs": [
    {
     "name": "stdout",
     "output_type": "stream",
     "text": [
      "A: [[ 0.1989134   0.26943841  0.45409686  0.8931826 ]\n",
      " [ 0.41490198  0.1561664   0.09971606  0.05990208]\n",
      " [ 0.57347287  0.35389622  0.63310774  0.74166118]]\n"
     ]
    }
   ],
   "source": [
    "#Resize (crop/slice) matrix A to size (3,4)\n",
    "a = a.flatten()[0:12].reshape(3,4)\n",
    "print('A: %s' %a)"
   ]
  },
  {
   "cell_type": "code",
   "execution_count": 107,
   "metadata": {},
   "outputs": [
    {
     "name": "stdout",
     "output_type": "stream",
     "text": [
      "B: [[ 0.1989134   0.41490198  0.57347287]\n",
      " [ 0.26943841  0.1561664   0.35389622]\n",
      " [ 0.45409686  0.09971606  0.63310774]\n",
      " [ 0.8931826   0.05990208  0.74166118]]\n"
     ]
    }
   ],
   "source": [
    "#Find the transpose of matrix A and assign it to B\n",
    "b = a.T\n",
    "print('B: %s' %b)"
   ]
  },
  {
   "cell_type": "code",
   "execution_count": 108,
   "metadata": {},
   "outputs": [
    {
     "name": "stdout",
     "output_type": "stream",
     "text": [
      "Minimum value in column 1 of matrix B: 0.198913398433\n"
     ]
    }
   ],
   "source": [
    "#Find the minimum value in column 1 of matrix B\n",
    "print('Minimum value in column 1 of matrix B: %s' %np.min(b[:,0])) #means each row in the first column or 0th index column"
   ]
  },
  {
   "cell_type": "code",
   "execution_count": 109,
   "metadata": {},
   "outputs": [
    {
     "name": "stdout",
     "output_type": "stream",
     "text": [
      "Max in A: 0.893182598683\n",
      "Min in A: 0.0599020838802\n"
     ]
    }
   ],
   "source": [
    "#Find the minimum and maximum values for the entire matrix A\n",
    "print('Max in A: %s' %np.max(a))\n",
    "print('Min in A: %s' %np.min(a))"
   ]
  },
  {
   "cell_type": "code",
   "execution_count": 110,
   "metadata": {},
   "outputs": [
    {
     "name": "stdout",
     "output_type": "stream",
     "text": [
      "X: [ 0.68066737  0.03955552  0.83933961  0.40600009]\n"
     ]
    }
   ],
   "source": [
    "#Create vector X (an array) with 4 random numbers\n",
    "x = np.random.random((4))\n",
    "print('X: %s' %x)"
   ]
  },
  {
   "cell_type": "code",
   "execution_count": 111,
   "metadata": {
    "collapsed": true
   },
   "outputs": [],
   "source": [
    "#Create a function and pass vector X and matrix A in it\n",
    "#In the new function multiply vector X with matrix A and assign the result to D\n",
    "def multiply(a, x):\n",
    "    return a*x"
   ]
  },
  {
   "cell_type": "code",
   "execution_count": 112,
   "metadata": {},
   "outputs": [
    {
     "name": "stdout",
     "output_type": "stream",
     "text": [
      "D: [[ 0.13539386  0.01065778  0.38114148  0.36263222]\n",
      " [ 0.28241024  0.00617724  0.08369563  0.02432025]\n",
      " [ 0.39034427  0.01399855  0.5313924   0.30111451]]\n"
     ]
    }
   ],
   "source": [
    "d = multiply(a, x)\n",
    "print('D: %s' %d)"
   ]
  },
  {
   "cell_type": "code",
   "execution_count": 113,
   "metadata": {},
   "outputs": [],
   "source": [
    "#Create a complex number Z with absolute and real parts != 0\n",
    "z = 2 + 3j"
   ]
  },
  {
   "cell_type": "code",
   "execution_count": 114,
   "metadata": {},
   "outputs": [
    {
     "name": "stdout",
     "output_type": "stream",
     "text": [
      "Z Real: 2.0\n",
      "Z Imaginary: 3.0\n",
      "Z Absolute: 3.60555127546\n"
     ]
    }
   ],
   "source": [
    "#Show its real and imaginary parts as well as it’s absolute value\n",
    "print('Z Real: %s' %np.real(z))\n",
    "print('Z Imaginary: %s' %np.imag(z))\n",
    "print('Z Absolute: %s' %np.abs(z))"
   ]
  },
  {
   "cell_type": "code",
   "execution_count": 115,
   "metadata": {},
   "outputs": [
    {
     "name": "stdout",
     "output_type": "stream",
     "text": [
      "C: [[ 0.48816951  0.03842716  1.37422514  1.30748906]\n",
      " [ 1.01824461  0.02227236  0.3017689   0.08768791]\n",
      " [ 1.40740629  0.05047248  1.91596255  1.0856838 ]]\n"
     ]
    }
   ],
   "source": [
    "#Multiply result D with the absolute value of Z and record it to C\n",
    "c = d * np.abs(z)\n",
    "print('C: %s' %c)"
   ]
  },
  {
   "cell_type": "code",
   "execution_count": 116,
   "metadata": {},
   "outputs": [
    {
     "name": "stdout",
     "output_type": "stream",
     "text": [
      "B: [ 0.1989134   0.41490198  0.57347287  0.26943841  0.1561664   0.35389622\n",
      "  0.45409686  0.09971606  0.63310774  0.8931826   0.05990208  0.74166118]\n"
     ]
    }
   ],
   "source": [
    "#Convert matrix B from a matrix to a string and overwrite B\n",
    "print('B: %s' %np.array_str(b.flatten()))"
   ]
  },
  {
   "cell_type": "code",
   "execution_count": 117,
   "metadata": {},
   "outputs": [
    {
     "name": "stdout",
     "output_type": "stream",
     "text": [
      "Rishabh Kedia is done with HW2\n"
     ]
    }
   ],
   "source": [
    "#Display a text on the screen: ‘Your Name is done with HW2‘\n",
    "print('Rishabh Kedia is done with HW2')"
   ]
  }
 ],
 "metadata": {
  "kernelspec": {
   "display_name": "Python 3",
   "language": "python",
   "name": "python3"
  },
  "language_info": {
   "codemirror_mode": {
    "name": "ipython",
    "version": 3
   },
   "file_extension": ".py",
   "mimetype": "text/x-python",
   "name": "python",
   "nbconvert_exporter": "python",
   "pygments_lexer": "ipython3",
   "version": "3.6.3"
  }
 },
 "nbformat": 4,
 "nbformat_minor": 2
}
